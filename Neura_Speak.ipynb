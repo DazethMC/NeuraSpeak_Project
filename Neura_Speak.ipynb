{
 "cells": [
  {
   "cell_type": "markdown",
   "metadata": {},
   "source": [
    "# librarys"
   ]
  },
  {
   "cell_type": "code",
   "execution_count": 19,
   "metadata": {},
   "outputs": [],
   "source": [
    "import nltk\n",
    "from nltk.tokenize import word_tokenize\n",
    "from nltk.parse import CoreNLPParser\n",
    "from nltk.corpus import wordnet\n",
    "import speech_recognition as sr\n",
    "import numpy as np\n",
    "import language_tool_python\n",
    "import pyaudio\n"
   ]
  },
  {
   "cell_type": "code",
   "execution_count": 20,
   "metadata": {},
   "outputs": [
    {
     "name": "stderr",
     "output_type": "stream",
     "text": [
      "[nltk_data] Downloading package punkt to\n",
      "[nltk_data]     C:\\Users\\deivi\\AppData\\Roaming\\nltk_data...\n",
      "[nltk_data]   Package punkt is already up-to-date!\n",
      "[nltk_data] Downloading package averaged_perceptron_tagger to\n",
      "[nltk_data]     C:\\Users\\deivi\\AppData\\Roaming\\nltk_data...\n",
      "[nltk_data]   Package averaged_perceptron_tagger is already up-to-\n",
      "[nltk_data]       date!\n",
      "[nltk_data] Downloading package wordnet to\n",
      "[nltk_data]     C:\\Users\\deivi\\AppData\\Roaming\\nltk_data...\n",
      "[nltk_data]   Package wordnet is already up-to-date!\n",
      "[nltk_data] Downloading package omw-1.4 to\n",
      "[nltk_data]     C:\\Users\\deivi\\AppData\\Roaming\\nltk_data...\n",
      "[nltk_data]   Package omw-1.4 is already up-to-date!\n"
     ]
    },
    {
     "data": {
      "text/plain": [
       "True"
      ]
     },
     "execution_count": 20,
     "metadata": {},
     "output_type": "execute_result"
    }
   ],
   "source": [
    "nltk.download(\"punkt\")\n",
    "nltk.download(\"averaged_perceptron_tagger\")\n",
    "nltk.download('wordnet')\n",
    "nltk.download('omw-1.4')"
   ]
  },
  {
   "cell_type": "markdown",
   "metadata": {},
   "source": [
    "# identify and Recognize Errors"
   ]
  },
  {
   "cell_type": "code",
   "execution_count": 21,
   "metadata": {},
   "outputs": [],
   "source": [
    "#pip install language_tool_python\n"
   ]
  },
  {
   "cell_type": "code",
   "execution_count": 22,
   "metadata": {},
   "outputs": [],
   "source": [
    "r = sr.Recognizer()\n",
    "def recognize_speech():\n",
    "    with sr.Microphone() as source:\n",
    "        print(\"Speak now...\")\n",
    "        audio = r.listen(source)\n",
    "        try:\n",
    "            text = r.recognize_google(audio)\n",
    "            print(\"You said: \" + text)\n",
    "            return text\n",
    "        except sr.UnknownValueError:\n",
    "            print(\"Sorry, I could not understand what you said.\")\n",
    "            return \"\"\n",
    "        except sr.RequestError as e:\n",
    "            print(\"Could not request results from Speech Recognition service; {0}\".format(e))\n",
    "            return \"\"\n"
   ]
  },
  {
   "cell_type": "code",
   "execution_count": 23,
   "metadata": {},
   "outputs": [],
   "source": [
    "import language_tool_python\n",
    "\n",
    "def text_corrector(text):\n",
    "    tool = language_tool_python.LanguageTool('en-US')\n",
    "   \n",
    "    matches = tool.check(text)\n",
    "    len(matches)\n",
    "    for i in matches:\n",
    "        print(i)\n",
    "        corrected_text = tool.correct(text)\n",
    "    return corrected_text"
   ]
  },
  {
   "cell_type": "code",
   "execution_count": 24,
   "metadata": {},
   "outputs": [],
   "source": [
    "#text = 'Hello class he are David he are a english speak'\n",
    "#solution=text_corrector(text)\n",
    "#print(\"corrected text is:\",solution)"
   ]
  },
  {
   "cell_type": "markdown",
   "metadata": {},
   "source": [
    "# Providing vocabulary practice:"
   ]
  },
  {
   "cell_type": "code",
   "execution_count": 25,
   "metadata": {},
   "outputs": [],
   "source": [
    "import random\n",
    "import nltk\n",
    "from nltk.corpus import wordnet\n",
    "\n",
    "def practice_vocabulary():\n",
    "    while True:\n",
    "        words = []\n",
    "        definitions = []\n",
    "\n",
    "        for synset in wordnet.all_synsets('v'):\n",
    "            words.append(synset.name().split(\".\")[0])\n",
    "            definitions.append(synset.definition())\n",
    "                \n",
    "        quiz_words = random.sample(words, k=4)\n",
    "        correct_word = random.choice(quiz_words)\n",
    "        print(\"==========================================================\")\n",
    "        print(\"What is the definition of the following word?\")\n",
    "        print(correct_word)\n",
    "        \n",
    "        for i in range(len(quiz_words)):\n",
    "            print(f\"{i + 1}. {definitions[words.index(quiz_words[i])]}\")\n",
    "            \n",
    "        answer = input(\"Enter the correct option number: \")\n",
    "        \n",
    "        if not answer.isdigit() or int(answer) not in range(1, 5):\n",
    "            print(\"==========================================================\")\n",
    "            print(\"Invalid response. Please enter a valid number between 1 and 4.\")\n",
    "            continue\n",
    "\n",
    "        if int(answer) == quiz_words.index(correct_word) + 1:\n",
    "            print(\"==========================================================\")\n",
    "            print(\"Congratulations! Your answer is correct.\")\n",
    "        else:\n",
    "            print(f\"Sorry, your answer is incorrect. The correct answer is {quiz_words.index(correct_word) + 1}.\")\n",
    "\n",
    "        play_again = input(\"Do you want to practice again? (y/n): \").lower()\n",
    "        if play_again != 'y':\n",
    "            break\n",
    "\n",
    "# Ejemplo de uso:\n",
    "#practice_vocabulary_quiz()\n"
   ]
  },
  {
   "cell_type": "markdown",
   "metadata": {},
   "source": [
    "# QuizOption"
   ]
  },
  {
   "cell_type": "code",
   "execution_count": 26,
   "metadata": {},
   "outputs": [],
   "source": [
    "import numpy as np\n",
    "from nltk.corpus import wordnet\n",
    "\n",
    "def generate_vocabulary_quiz(num_questions):\n",
    "    words = []\n",
    "    definitions = []\n",
    "    score = 0\n",
    "\n",
    "    for synset in wordnet.all_synsets('n'):\n",
    "        if synset.pos() == \"n\":\n",
    "            words.append(synset.name().split(\".\")[0])\n",
    "            definitions.append(synset.definition())\n",
    "\n",
    "    for i in range(num_questions):\n",
    "        quiz_words = np.random.choice(words, size=4, replace=False)\n",
    "        correct_word = np.random.choice(quiz_words)\n",
    "\n",
    "        print(f\"\\nQuestion {i + 1}: What is the definition of the following word?\")\n",
    "        print(correct_word)\n",
    "\n",
    "        for j in range(len(quiz_words)):\n",
    "            print(f\"{j + 1}. {definitions[words.index(quiz_words[j])]}\")\n",
    "\n",
    "        answer = int(input(\"Enter the correct option number: \"))\n",
    "\n",
    "        if answer == np.where(quiz_words == correct_word)[0][0] + 1:\n",
    "            print(\"Congratulations! Your answer is correct.\")\n",
    "            score += 1\n",
    "            print()\n",
    "        else:\n",
    "            print(f\"Sorry, your answer is incorrect. The correct answer is {np.where(quiz_words == correct_word)[0][0] + 1}.\")\n",
    "\n",
    "    print(f\"\\nQuiz complete! Your score is: {score}/{num_questions}\")\n",
    "\n",
    "\n"
   ]
  },
  {
   "cell_type": "markdown",
   "metadata": {},
   "source": [
    "# Start voice assistant menu"
   ]
  },
  {
   "cell_type": "code",
   "execution_count": 27,
   "metadata": {},
   "outputs": [],
   "source": [
    "\n",
    "\n",
    "def start_voice_assistant():\n",
    "    print(\"_________________________________________________\")\n",
    "    print(\"*** Welcome to the NeuraSpeak tool Assistant ***\")\n",
    "    print(\"_________________________________________________\")\n",
    "    while True:\n",
    "        print(\"\\nWhat would you like to do?\\n\")\n",
    "        print(\"1. Recognize pronunciation errors and suggest corrections\")\n",
    "        print(\"2. Practice vocabulary\")\n",
    "        print(\"3. Quiz\")\n",
    "        print(\"4. Exit\")\n",
    "        print(\"_________________________________________________\")\n",
    "        choice = input(\"Enter your choice: \")\n",
    "        \n",
    "        if choice == \"1\":\n",
    "            text = recognize_speech()\n",
    "            if text:\n",
    "                # Correct any errors in the transcription using NLP techniques\n",
    "                solution=text_corrector(text)\n",
    "                print(\"corrected text is:\",solution)\n",
    "        elif choice == \"2\":\n",
    "            practice_vocabulary()\n",
    "        elif choice==\"3\":\n",
    "            generate_vocabulary_quiz(10)\n",
    "        elif choice == \"4\":\n",
    "            print(\"Thank you for using the NeuraSpeak learning English tools.\")\n",
    "            break\n",
    "        else:\n",
    "            print(\"Invalid choice. Please try again.\")"
   ]
  },
  {
   "cell_type": "markdown",
   "metadata": {},
   "source": [
    "# Testing the voice assistant:"
   ]
  },
  {
   "cell_type": "code",
   "execution_count": 28,
   "metadata": {},
   "outputs": [
    {
     "name": "stdout",
     "output_type": "stream",
     "text": [
      "_________________________________________________\n",
      "*** Welcome to the NeuraSpeak Voice Assistant ***\n",
      "_________________________________________________\n",
      "\n",
      "What would you like to do?\n",
      "\n",
      "1. Recognize pronunciation errors and suggest corrections\n",
      "2. Practice vocabulary\n",
      "3. Quiz\n",
      "4. Exit\n",
      "_________________________________________________\n",
      "Speak now...\n",
      "You said: this program are created to improve our English grammar\n",
      "Offset 0, length 4, Rule ID: UPPERCASE_SENTENCE_START\n",
      "Message: This sentence does not start with an uppercase letter.\n",
      "Suggestion: This\n",
      "this program are created to improve our Engl...\n",
      "^^^^\n",
      "Offset 13, length 3, Rule ID: SINGULAR_AGREEMENT_SENT_START\n",
      "Message: You should probably use “is”.\n",
      "Suggestion: is\n",
      "this program are created to improve our English grammar\n",
      "             ^^^\n",
      "corrected text is: This program is created to improve our English grammar\n",
      "\n",
      "What would you like to do?\n",
      "\n",
      "1. Recognize pronunciation errors and suggest corrections\n",
      "2. Practice vocabulary\n",
      "3. Quiz\n",
      "4. Exit\n",
      "_________________________________________________\n",
      "Thank you for using the NeuraSpeak learning voice assistant.\n"
     ]
    }
   ],
   "source": [
    "\n",
    "start_voice_assistant()"
   ]
  }
 ],
 "metadata": {
  "kernelspec": {
   "display_name": "Python 3",
   "language": "python",
   "name": "python3"
  },
  "language_info": {
   "codemirror_mode": {
    "name": "ipython",
    "version": 3
   },
   "file_extension": ".py",
   "mimetype": "text/x-python",
   "name": "python",
   "nbconvert_exporter": "python",
   "pygments_lexer": "ipython3",
   "version": "3.11.5"
  },
  "orig_nbformat": 4
 },
 "nbformat": 4,
 "nbformat_minor": 2
}
